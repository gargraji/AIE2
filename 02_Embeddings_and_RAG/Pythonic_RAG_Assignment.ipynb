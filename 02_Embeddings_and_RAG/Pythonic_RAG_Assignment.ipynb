{
  "cells": [
    {
      "cell_type": "markdown",
      "metadata": {
        "id": "lElF3o5PR6ys"
      },
      "source": [
        "# Your First RAG Application\n",
        "\n",
        "In this notebook, we'll walk you through each of the components that are involved in a simple RAG application.\n",
        "\n",
        "We won't be leveraging any fancy tools, just the OpenAI Python SDK, Numpy, and some classic Python.\n",
        "\n",
        "> NOTE: This was done with Python 3.11.4.\n",
        "\n",
        "> NOTE: There might be [compatibility issues](https://github.com/wandb/wandb/issues/7683) if you're on NVIDIA driver >552.44 As an interim solution - you can rollback your drivers to the 552.44."
      ]
    },
    {
      "cell_type": "markdown",
      "metadata": {
        "id": "5CtcL8P8R6yt"
      },
      "source": [
        "## Table of Contents:\n",
        "\n",
        "- Task 1: Imports and Utilities\n",
        "- Task 2: Documents\n",
        "- Task 3: Embeddings and Vectors\n",
        "- Task 4: Prompts\n",
        "- Task 5: Retrieval Augmented Generation\n",
        "  - 🚧 Activity #1: Augment RAG"
      ]
    },
    {
      "cell_type": "markdown",
      "metadata": {
        "id": "1Dz6GYilR6yt"
      },
      "source": [
        "Let's look at a rather complicated looking visual representation of a basic RAG application.\n",
        "\n",
        "<img src=\"https://i.imgur.com/vD8b016.png\" />"
      ]
    },
    {
      "cell_type": "markdown",
      "metadata": {
        "id": "PjmC0KFtR6yt"
      },
      "source": [
        "## Task 1: Imports and Utility\n",
        "\n",
        "We're just doing some imports and enabling `async` to work within the Jupyter environment here, nothing too crazy!"
      ]
    },
    {
      "cell_type": "code",
      "execution_count": 3,
      "metadata": {
        "id": "Z1dyrG4hR6yt"
      },
      "outputs": [],
      "source": [
        "from aimakerspace.text_utils import TextFileLoader\n",
        "from aimakerspace.text_utils import CharacterTextSplitter\n",
        "from aimakerspace.text_utils import PdfFileLoader\n",
        "from aimakerspace.vectordatabase import VectorDatabase\n",
        "import asyncio"
      ]
    },
    {
      "cell_type": "code",
      "execution_count": 4,
      "metadata": {
        "id": "9OrFZRnER6yt"
      },
      "outputs": [],
      "source": [
        "import nest_asyncio\n",
        "nest_asyncio.apply()"
      ]
    },
    {
      "cell_type": "markdown",
      "metadata": {
        "id": "M0jGnpQsR6yu"
      },
      "source": [
        "## Task 2: Documents\n",
        "\n",
        "We'll be concerning ourselves with this part of the flow in the following section:\n",
        "\n",
        "<img src=\"https://i.imgur.com/jTm9gjk.png\" />"
      ]
    },
    {
      "cell_type": "markdown",
      "metadata": {
        "id": "-SFPWvRUR6yu"
      },
      "source": [
        "### Loading Source Documents\n",
        "\n",
        "So, first things first, we need some documents to work with.\n",
        "\n",
        "While we could work directly with the `.txt` files (or whatever file-types you wanted to extend this to) we can instead do some batch processing of those documents at the beginning in order to store them in a more machine compatible format.\n",
        "\n",
        "In this case, we're going to parse our text file into a single document in memory.\n",
        "\n",
        "Let's look at the relevant bits of the `TextFileLoader` class:\n",
        "\n",
        "```python\n",
        "def load_file(self):\n",
        "        with open(self.path, \"r\", encoding=self.encoding) as f:\n",
        "            self.documents.append(f.read())\n",
        "```\n",
        "\n",
        "We're simply loading the document using the built in `open` method, and storing that output in our `self.documents` list.\n"
      ]
    },
    {
      "cell_type": "code",
      "execution_count": 5,
      "metadata": {
        "colab": {
          "base_uri": "https://localhost:8080/"
        },
        "id": "Ia2sUEuGR6yu",
        "outputId": "84937ecc-c35f-4c4a-a4ab-9da72625954c"
      },
      "outputs": [
        {
          "data": {
            "text/plain": [
              "1"
            ]
          },
          "execution_count": 5,
          "metadata": {},
          "output_type": "execute_result"
        }
      ],
      "source": [
        "text_loader = PdfFileLoader(\"data/PMarcaBlogs.pdf\")\n",
        "documents = text_loader.load_documents()\n",
        "len(documents)"
      ]
    },
    {
      "cell_type": "code",
      "execution_count": 6,
      "metadata": {
        "colab": {
          "base_uri": "https://localhost:8080/"
        },
        "id": "bV-tj5WFR6yu",
        "outputId": "674eb315-1ff3-4597-bcf5-38ece0a812ac"
      },
      "outputs": [
        {
          "name": "stdout",
          "output_type": "stream",
          "text": [
            " \n",
            "The\n",
            " \n",
            "Pmarca\n",
            " \n",
            "Blog\n",
            " \n",
            "Archives\n",
            " \n",
            "(select\n",
            " \n",
            "posts\n",
            " \n",
            "from\n",
            " \n",
            "2007-2009)\n",
            " \n",
            "Marc\n",
            " \n",
            "Andreessen\n",
            " \n",
            "copyrig\n"
          ]
        }
      ],
      "source": [
        "print(documents[0][:100])"
      ]
    },
    {
      "cell_type": "markdown",
      "metadata": {
        "id": "nHlTvCzYR6yu"
      },
      "source": [
        "### Splitting Text Into Chunks\n",
        "\n",
        "As we can see, there is one massive document.\n",
        "\n",
        "We'll want to chunk the document into smaller parts so it's easier to pass the most relevant snippets to the LLM.\n",
        "\n",
        "There is no fixed way to split/chunk documents - and you'll need to rely on some intuition as well as knowing your data *very* well in order to build the most robust system.\n",
        "\n",
        "For this toy example, we'll just split blindly on length.\n",
        "\n",
        ">There's an opportunity to clear up some terminology here, for this course we will be stick to the following:\n",
        ">\n",
        ">- \"source documents\" : The `.txt`, `.pdf`, `.html`, ..., files that make up the files and information we start with in its raw format\n",
        ">- \"document(s)\" : single (or more) text object(s)\n",
        ">- \"corpus\" : the combination of all of our documents"
      ]
    },
    {
      "cell_type": "markdown",
      "metadata": {
        "id": "2G6Voc0jR6yv"
      },
      "source": [
        "As you can imagine (though it's not specifically true in this toy example) the idea of splitting documents is to break them into managable sized chunks that retain the most relevant local context."
      ]
    },
    {
      "cell_type": "code",
      "execution_count": 7,
      "metadata": {
        "colab": {
          "base_uri": "https://localhost:8080/"
        },
        "id": "UMC4tsEmR6yv",
        "outputId": "08689c0b-57cd-4040-942a-8193e997f5cb"
      },
      "outputs": [
        {
          "data": {
            "text/plain": [
              "503"
            ]
          },
          "execution_count": 7,
          "metadata": {},
          "output_type": "execute_result"
        }
      ],
      "source": [
        "text_splitter = CharacterTextSplitter()\n",
        "split_documents = text_splitter.split_texts(documents)\n",
        "len(split_documents)"
      ]
    },
    {
      "cell_type": "markdown",
      "metadata": {
        "id": "W2wKT0WLR6yv"
      },
      "source": [
        "Let's take a look at some of the documents we've managed to split."
      ]
    },
    {
      "cell_type": "code",
      "execution_count": 8,
      "metadata": {
        "colab": {
          "base_uri": "https://localhost:8080/"
        },
        "id": "vcYMwWJoR6yv",
        "outputId": "20d69876-feca-4826-b4be-32915276987a"
      },
      "outputs": [
        {
          "data": {
            "text/plain": [
              "['The   Pmarca   Blog   Archives   (select   posts   from   2007-2009)   Marc   Andreessen   copyright:   Andreessen   Horowitz   cover   design:   Jessica   Hagy   produced   using:   Pressbooks   Contents   THE   PMARCA   GUIDE   TO   STARTUPS   Part   1:   Why   not   to   do   a   startup   2   Part   2:   When   the   VCs   say   \"no\"   10   Part   3:   \"But   I   don\\'t   know   any   VCs!\"   18   Part   4:   The   only   thing   that   matters   25   Part   5:   The   Moby   Dick   theory   of   big   companies   33   Part   6:   How   much   funding   is   too   little?   Too   much?   41   Part   7:   Why   a   startup\\'s   initial   business   plan   doesn\\'t   matter   that   much   49   THE   PMARCA   GUIDE   TO   HIRING   Part   8:   Hiring,   managing,   promoting,   and   Dring   executives   54   Part   9:   How   to   hire   a   professional   CEO   68   How   to   hire   the   best   people   you\\'ve   ever   worked   with   69   THE   PMARCA   GUIDE   TO   BIG   COMPANIES ']"
            ]
          },
          "execution_count": 8,
          "metadata": {},
          "output_type": "execute_result"
        }
      ],
      "source": [
        "split_documents[0:1]"
      ]
    },
    {
      "cell_type": "markdown",
      "metadata": {
        "id": "HOU-RFP_R6yv"
      },
      "source": [
        "## Task 3: Embeddings and Vectors\n",
        "\n",
        "Next, we have to convert our corpus into a \"machine readable\" format as we explored in the Embedding Primer notebook.\n",
        "\n",
        "Today, we're going to talk about the actual process of creating, and then storing, these embeddings, and how we can leverage that to intelligently add context to our queries."
      ]
    },
    {
      "cell_type": "markdown",
      "metadata": {},
      "source": [
        "### OpenAI API Key\n",
        "\n",
        "In order to access OpenAI's APIs, we'll need to provide our OpenAI API Key!\n",
        "\n",
        "You can work through the folder \"OpenAI API Key Setup\" for more information on this process if you don't already have an API Key!"
      ]
    },
    {
      "cell_type": "code",
      "execution_count": 9,
      "metadata": {},
      "outputs": [],
      "source": [
        "import os\n",
        "import openai\n",
        "from getpass import getpass\n",
        "\n",
        "openai.api_key = getpass(\"OpenAI API Key: \")\n",
        "os.environ[\"OPENAI_API_KEY\"] = openai.api_key"
      ]
    },
    {
      "cell_type": "markdown",
      "metadata": {},
      "source": [
        "### Vector Database\n",
        "\n",
        "Let's set up our vector database to hold all our documents and their embeddings!"
      ]
    },
    {
      "cell_type": "markdown",
      "metadata": {
        "id": "kDQrfAR1R6yv"
      },
      "source": [
        "While this is all baked into 1 call - we can look at some of the code that powers this process to get a better understanding:\n",
        "\n",
        "Let's look at our `VectorDatabase().__init__()`:\n",
        "\n",
        "```python\n",
        "def __init__(self, embedding_model: EmbeddingModel = None):\n",
        "        self.vectors = defaultdict(np.array)\n",
        "        self.embedding_model = embedding_model or EmbeddingModel()\n",
        "```\n",
        "\n",
        "As you can see - our vectors are merely stored as a dictionary of `np.array` objects.\n",
        "\n",
        "Secondly, our `VectorDatabase()` has a default `EmbeddingModel()` which is a wrapper for OpenAI's `text-embedding-3-small` model.\n",
        "\n",
        "> **Quick Info About `text-embedding-3-small`**:\n",
        "> - It has a context window of **8191** tokens\n",
        "> - It returns vectors with dimension **1536**"
      ]
    },
    {
      "cell_type": "markdown",
      "metadata": {
        "id": "L273pRdeR6yv"
      },
      "source": [
        "#### ❓Question #1:\n",
        "\n",
        "The default embedding dimension of `text-embedding-3-small` is 1536, as noted above. \n",
        "\n",
        "1. Is there any way to modify this dimension?\n",
        "The way to modify the dimension is to use the 'text-embedding-3-large' model for increasing embedding dimensions or pass the 'test-embedding-3-small' model with the 'dimensions' parameter to reducing the dimensions.\n",
        "2. What technique does OpenAI use to achieve this?\n",
        "OpenAI uses Matryoshka Representation Learning (MRL) technique to achieve this.\n",
        "\n",
        "> NOTE: Check out this [API documentation](https://platform.openai.com/docs/api-reference/embeddings/create) for the answer to question #1, and [this documentation](https://platform.openai.com/docs/guides/embeddings/use-cases) for an answer to question #2!"
      ]
    },
    {
      "cell_type": "markdown",
      "metadata": {
        "id": "w5FZY7K3R6yv"
      },
      "source": [
        "We can call the `async_get_embeddings` method of our `EmbeddingModel()` on a list of `str` and receive a list of `float` back!\n",
        "\n",
        "```python\n",
        "async def async_get_embeddings(self, list_of_text: List[str]) -> List[List[float]]:\n",
        "        return await aget_embeddings(\n",
        "            list_of_text=list_of_text, engine=self.embeddings_model_name\n",
        "        )\n",
        "```"
      ]
    },
    {
      "cell_type": "markdown",
      "metadata": {
        "id": "cSct6X0aR6yv"
      },
      "source": [
        "We cast those to `np.array` when we build our `VectorDatabase()`:\n",
        "\n",
        "```python\n",
        "async def abuild_from_list(self, list_of_text: List[str]) -> \"VectorDatabase\":\n",
        "        embeddings = await self.embedding_model.async_get_embeddings(list_of_text)\n",
        "        for text, embedding in zip(list_of_text, embeddings):\n",
        "            self.insert(text, np.array(embedding))\n",
        "        return self\n",
        "```\n",
        "\n",
        "And that's all we need to do!"
      ]
    },
    {
      "cell_type": "code",
      "execution_count": 1,
      "metadata": {
        "id": "O4KoLbVDR6yv"
      },
      "outputs": [
        {
          "ename": "NameError",
          "evalue": "name 'VectorDatabase' is not defined",
          "output_type": "error",
          "traceback": [
            "\u001b[0;31m---------------------------------------------------------------------------\u001b[0m",
            "\u001b[0;31mNameError\u001b[0m                                 Traceback (most recent call last)",
            "Cell \u001b[0;32mIn[1], line 1\u001b[0m\n\u001b[0;32m----> 1\u001b[0m vector_db \u001b[38;5;241m=\u001b[39m \u001b[43mVectorDatabase\u001b[49m()\n\u001b[1;32m      2\u001b[0m vector_db \u001b[38;5;241m=\u001b[39m asyncio\u001b[38;5;241m.\u001b[39mrun(vector_db\u001b[38;5;241m.\u001b[39mabuild_from_list(split_documents))\n",
            "\u001b[0;31mNameError\u001b[0m: name 'VectorDatabase' is not defined"
          ]
        }
      ],
      "source": [
        "vector_db = VectorDatabase()\n",
        "vector_db = asyncio.run(vector_db.abuild_from_list(split_documents))"
      ]
    },
    {
      "cell_type": "markdown",
      "metadata": {
        "id": "SSZwaGvpR6yv"
      },
      "source": [
        "#### ❓Question #2:\n",
        "\n",
        "What are the benefits of using an `async` approach to collecting our embeddings?\n",
        "Generating embedding is an expensive time consuming process and using async approach to collect embedding will help the system to focus on other tasks and embeddings while the particlar embedding is being generated.\n",
        "\n",
        "> NOTE: Determining the core difference between `async` and `sync` will be useful! If you get stuck - ask ChatGPT!"
      ]
    },
    {
      "cell_type": "markdown",
      "metadata": {
        "id": "nRBdIt-xR6yw"
      },
      "source": [
        "So, to review what we've done so far in natural language:\n",
        "\n",
        "1. We load source documents\n",
        "2. We split those source documents into smaller chunks (documents)\n",
        "3. We send each of those documents to the `text-embedding-3-small` OpenAI API endpoint\n",
        "4. We store each of the text representations with the vector representations as keys/values in a dictionary"
      ]
    },
    {
      "cell_type": "markdown",
      "metadata": {
        "id": "4-vWANZyR6yw"
      },
      "source": [
        "### Semantic Similarity\n",
        "\n",
        "The next step is to be able to query our `VectorDatabase()` with a `str` and have it return to us vectors and text that is most relevant from our corpus.\n",
        "\n",
        "We're going to use the following process to achieve this in our toy example:\n",
        "\n",
        "1. We need to embed our query with the same `EmbeddingModel()` as we used to construct our `VectorDatabase()`\n",
        "2. We loop through every vector in our `VectorDatabase()` and use a distance measure to compare how related they are\n",
        "3. We return a list of the top `k` closest vectors, with their text representations\n",
        "\n",
        "There's some very heavy optimization that can be done at each of these steps - but let's just focus on the basic pattern in this notebook.\n",
        "\n",
        "> We are using [cosine similarity](https://www.engati.com/glossary/cosine-similarity) as a distance metric in this example - but there are many many distance metrics you could use - like [these](https://flavien-vidal.medium.com/similarity-distances-for-natural-language-processing-16f63cd5ba55)\n",
        "\n",
        "> We are using a rather inefficient way of calculating relative distance between the query vector and all other vectors - there are more advanced approaches that are much more efficient, like [ANN](https://towardsdatascience.com/comprehensive-guide-to-approximate-nearest-neighbors-algorithms-8b94f057d6b6)"
      ]
    },
    {
      "cell_type": "code",
      "execution_count": 11,
      "metadata": {
        "colab": {
          "base_uri": "https://localhost:8080/"
        },
        "id": "76d96uavR6yw",
        "outputId": "bbfccc31-20a2-41c7-c14d-46554a43ed2d"
      },
      "outputs": [
        {
          "data": {
            "text/plain": [
              "[('n\\n \\npurpose.\\n \\nThis\\n \\nsounds\\n \\nsilly,\\n \\nbut\\n \\nyou\\n \\nwouldn’t\\n \\nbelieve\\n \\nhow\\n \\noaen\\n \\nit\\n \\nhappens.\\n \\nThe\\n \\nCEO\\n \\nwho\\n \\nused\\n \\nto\\n \\nbe\\n \\na\\n \\nproduct\\n \\nmanager\\n \\nwho\\n \\nhas\\n \\na\\n \\nweak\\n \\nproduct\\n \\nmanagement\\n \\nexecutive.\\n \\nThe\\n \\nCEO\\n \\nwho\\n \\nused\\n \\nto\\n \\nbe\\n \\nin\\n \\nsales\\n \\nwho\\n \\nhas\\n \\na\\n \\nweak\\n \\nsales\\n \\nexecutive.\\n \\nThe\\n \\nCEO\\n \\nwho\\n \\nused\\n \\nto\\n \\nbe\\n \\nin\\n \\nmarketing\\n \\nwho\\n \\nhas\\n \\na\\n \\nweak\\n \\nmarketing\\n \\nexecutive.\\n \\nI\\n \\ncall\\n \\nthis\\n \\nthe\\n \\n“Michael\\n \\nEisner\\n \\nMemorial\\n \\nWeak\\n \\nExecutive\\n \\nProblem”\\n \\n—\\n \\naaer\\n \\nthe\\n \\nCEO\\n \\nof\\n \\nDisney\\n \\nwho\\n \\nhad\\n \\npreviously\\n \\nbeen\\n \\na\\n \\nbrilliant\\n \\nTV\\n \\nnetwork\\n \\nexecutive.\\n \\nWhen\\n \\nhe\\n \\nbought\\n \\nABC\\n \\nat\\n \\nDisney,\\n \\nit\\n \\npromptly\\n \\nfell\\n \\nto\\n \\nfourth\\n \\nplace.\\n \\nHis\\n \\nresponse?\\n \\n“If\\n \\nI\\n \\nhad\\n \\nan\\n \\nextra\\n \\ntwo\\n \\ndays\\n \\na\\n \\nweek,\\n \\nI\\n \\ncould\\n \\nturn\\n \\naround\\n \\nABC\\n \\nmyself.”\\n \\nWell,\\n \\nguess\\n \\nwhat,\\n \\nhe\\n \\ndidn’t\\n \\nhave\\n \\nan\\n \\nextra\\n \\ntwo\\n \\ndays\\n \\na\\n \\nweek.\\n \\nA\\n \\nCEO\\n \\n—\\n \\nor\\n \\na\\n \\nstartup\\n \\nfounder\\n \\n—\\n \\noaen\\n \\nhas\\n \\na\\n \\nhard\\n \\ntime\\n \\nletting\\n \\ngo\\n \\nof\\n \\nthe\\n',\n",
              "  np.float64(0.6601406095272773)),\n",
              " ('ives\\n \\nmanage\\n \\nexecutives.\\n \\nIt\\n \\nturns\\n \\nout\\n \\nthat\\n \\njust\\n \\nabout\\n \\nevery\\n \\nexecutive\\n \\nin\\n \\nthe\\n \\nworld\\n \\nhas\\n \\na\\n \\nfew\\n \\nthings\\n \\nthat\\n \\nare\\n \\nseriously\\n \\nwrong\\n \\nwith\\n \\nthem.\\n \\nThey\\n \\nhave\\n \\nareas\\n \\nwhere\\n \\nthey\\n \\nare\\n \\ntruly\\n \\ndeXcient\\n \\nin\\n \\njudgment\\n \\nor\\n \\nskill\\n \\nset.\\n \\nThat’s\\n \\njust\\n \\nlife.\\n \\nAlmost\\n \\nnobody\\n \\nis\\n \\nbrilliant\\n \\nat\\n \\neverything.\\n \\nWhen\\n \\nhiring\\n \\nand\\n \\nwhen\\n \\nHring\\n \\nexecutives,\\n \\nyou\\n \\nmust\\n \\ntherefore\\n \\nfocus\\n \\non\\n \\nstrength\\n \\nrather\\n \\nthan\\n \\nlack\\n \\nof\\n \\nweakness.\\n \\nEverybody\\n \\nhas\\n \\nsevere\\n \\nweaknesses\\n \\neven\\n \\nif\\n \\nyou\\n \\ncan’t\\n \\nsee\\n \\nthem\\n \\nyet.\\n \\nWhen\\n \\nmanaging,\\n \\nit’s\\n \\noaen\\n \\nuseful\\n \\nto\\n \\nmicromanage\\n \\nand\\n \\nto\\n \\nprovide\\n \\nremedial\\n \\ntraining\\n \\naround\\n \\nthese\\n \\nweaknesses.\\n \\nDoing\\n \\nso\\n \\nmay\\n \\nmake\\n \\nthe\\n \\ndiWerence\\n \\nbetween\\n \\nan\\n \\nexecutive\\n \\nsucceeding\\n \\nor\\n \\nfailing.\\n \\nFor\\n \\nexample,\\n \\nyou\\n \\nmight\\n \\nhave\\n \\na\\n \\nbrilliant\\n \\nengineering\\n \\nexecutive\\n who\\n \\ngenerates\\n \\nexcellent\\n \\nteam\\n \\nloyalty,\\n \\nhas\\n \\nterriXc\\n \\nproduct\\n \\njudgment\\n \\nand\\n \\nmakes\\n \\nth',\n",
              "  np.float64(0.4999804441267502)),\n",
              " ('he\\n \\nfundamental\\n \\ninterpersonal\\n \\nskills\\n \\nrequired\\n \\nto\\n \\nbe\\n \\nan\\n \\neWective\\n \\nexecutive.\\n \\nI\\n \\nam\\n \\narguing\\n \\nthat\\n \\ndoing\\n \\n(a)\\n \\nwill\\n \\nlikely\\n \\nresult\\n \\nin\\n \\nweak\\n \\nperformance.\\n \\nThe\\n \\nreason\\n \\nis\\n \\nthat\\n \\nshe\\n \\nvery\\n \\nlikely\\n \\nhas\\n \\nno\\n \\nidea\\n \\nhow\\n \\nto\\n \\nbe\\n \\neWective\\n \\nwith\\n \\nher\\n \\npeers.\\n \\nIf\\n \\nsomebody\\n \\nis\\n \\nan\\n \\nexecutive,\\n \\nit’s\\n \\nvery\\n \\nlikely\\n \\nthat\\n \\nsomewhere\\n \\nalong\\n \\nthe\\n \\nline\\n \\nsomebody\\n \\ngave\\n \\nher\\n \\nfeedback\\n \\n—\\n \\nperhaps\\n \\nabstractly\\n \\n—\\n \\nabout\\n \\nall\\n \\nof\\n \\nher\\n \\nweaknesses.\\n \\nYet\\n \\nthe\\n \\nweakness\\n \\nremains.\\n \\nAs\\n \\na\\n \\nresult,\\n \\nexecutives\\n \\ngenerally\\n \\nrequire\\n \\nmore\\n \\nhands-on\\n \\nmanagement\\n \\nthan\\n \\nlower\\n \\nlevel\\n \\nemployees\\n \\nto\\n \\nimprove\\n \\nweak\\n \\nareas.\\n \\nSo,\\n \\nmicromanagement\\n \\nis\\n \\nlike\\n \\nXne\\n \\nwine.\\n \\nA\\n \\nlittle\\n \\nat\\n \\nthe\\n \\nright\\n \\ntimes\\n \\nwill\\n \\nreally\\n \\nenhance\\n \\nthings;\\n \\ntoo\\n \\nmuch\\n \\nall\\n \\nthe\\n \\ntime\\n \\nand\\n \\nyou’ll\\n \\nend\\n \\nup\\n \\nin\\n \\nrehab.\\n \\nPart\\n \\n8:\\n \\nHiring,\\n \\nmanaging,\\n \\npromoting,\\n \\nand\\n \\nDring\\n \\nexecutives\\n \\n67\\n \\nPart\\n \\n9:\\n \\nHow\\n \\nto\\n \\nhire\\n ',\n",
              "  np.float64(0.48588892249543897))]"
            ]
          },
          "execution_count": 11,
          "metadata": {},
          "output_type": "execute_result"
        }
      ],
      "source": [
        "vector_db.search_by_text(\"What is the Michael Eisner Memorial Weak Executive Problem?\", k=3)"
      ]
    },
    {
      "cell_type": "markdown",
      "metadata": {
        "id": "TehsfIiKR6yw"
      },
      "source": [
        "## Task 4: Prompts\n",
        "\n",
        "In the following section, we'll be looking at the role of prompts - and how they help us to guide our application in the right direction.\n",
        "\n",
        "In this notebook, we're going to rely on the idea of \"zero-shot in-context learning\".\n",
        "\n",
        "This is a lot of words to say: \"We will ask it to perform our desired task in the prompt, and provide no examples.\""
      ]
    },
    {
      "cell_type": "markdown",
      "metadata": {
        "id": "yXpA0UveR6yw"
      },
      "source": [
        "### XYZRolePrompt\n",
        "\n",
        "Before we do that, let's stop and think a bit about how OpenAI's chat models work.\n",
        "\n",
        "We know they have roles - as is indicated in the following API [documentation](https://platform.openai.com/docs/api-reference/chat/create#chat/create-messages)\n",
        "\n",
        "There are three roles, and they function as follows (taken directly from [OpenAI](https://platform.openai.com/docs/guides/gpt/chat-completions-api)):\n",
        "\n",
        "- `{\"role\" : \"system\"}` : The system message helps set the behavior of the assistant. For example, you can modify the personality of the assistant or provide specific instructions about how it should behave throughout the conversation. However note that the system message is optional and the model’s behavior without a system message is likely to be similar to using a generic message such as \"You are a helpful assistant.\"\n",
        "- `{\"role\" : \"user\"}` : The user messages provide requests or comments for the assistant to respond to.\n",
        "- `{\"role\" : \"assistant\"}` : Assistant messages store previous assistant responses, but can also be written by you to give examples of desired behavior.\n",
        "\n",
        "The main idea is this:\n",
        "\n",
        "1. You start with a system message that outlines how the LLM should respond, what kind of behaviours you can expect from it, and more\n",
        "2. Then, you can provide a few examples in the form of \"assistant\"/\"user\" pairs\n",
        "3. Then, you prompt the model with the true \"user\" message.\n",
        "\n",
        "In this example, we'll be forgoing the 2nd step for simplicities sake."
      ]
    },
    {
      "cell_type": "markdown",
      "metadata": {
        "id": "gdZ2KWKSR6yw"
      },
      "source": [
        "#### Utility Functions\n",
        "\n",
        "You'll notice that we're using some utility functions from the `aimakerspace` module - let's take a peek at these and see what they're doing!"
      ]
    },
    {
      "cell_type": "markdown",
      "metadata": {
        "id": "GFbeJDDsR6yw"
      },
      "source": [
        "##### XYZRolePrompt"
      ]
    },
    {
      "cell_type": "markdown",
      "metadata": {
        "id": "5mojJSE3R6yw"
      },
      "source": [
        "Here we have our `system`, `user`, and `assistant` role prompts.\n",
        "\n",
        "Let's take a peek at what they look like:\n",
        "\n",
        "```python\n",
        "class BasePrompt:\n",
        "    def __init__(self, prompt):\n",
        "        \"\"\"\n",
        "        Initializes the BasePrompt object with a prompt template.\n",
        "\n",
        "        :param prompt: A string that can contain placeholders within curly braces\n",
        "        \"\"\"\n",
        "        self.prompt = prompt\n",
        "        self._pattern = re.compile(r\"\\{([^}]+)\\}\")\n",
        "\n",
        "    def format_prompt(self, **kwargs):\n",
        "        \"\"\"\n",
        "        Formats the prompt string using the keyword arguments provided.\n",
        "\n",
        "        :param kwargs: The values to substitute into the prompt string\n",
        "        :return: The formatted prompt string\n",
        "        \"\"\"\n",
        "        matches = self._pattern.findall(self.prompt)\n",
        "        return self.prompt.format(**{match: kwargs.get(match, \"\") for match in matches})\n",
        "\n",
        "    def get_input_variables(self):\n",
        "        \"\"\"\n",
        "        Gets the list of input variable names from the prompt string.\n",
        "\n",
        "        :return: List of input variable names\n",
        "        \"\"\"\n",
        "        return self._pattern.findall(self.prompt)\n",
        "```\n",
        "\n",
        "Then we have our `RolePrompt` which laser focuses us on the role pattern found in most API endpoints for LLMs.\n",
        "\n",
        "```python\n",
        "class RolePrompt(BasePrompt):\n",
        "    def __init__(self, prompt, role: str):\n",
        "        \"\"\"\n",
        "        Initializes the RolePrompt object with a prompt template and a role.\n",
        "\n",
        "        :param prompt: A string that can contain placeholders within curly braces\n",
        "        :param role: The role for the message ('system', 'user', or 'assistant')\n",
        "        \"\"\"\n",
        "        super().__init__(prompt)\n",
        "        self.role = role\n",
        "\n",
        "    def create_message(self, **kwargs):\n",
        "        \"\"\"\n",
        "        Creates a message dictionary with a role and a formatted message.\n",
        "\n",
        "        :param kwargs: The values to substitute into the prompt string\n",
        "        :return: Dictionary containing the role and the formatted message\n",
        "        \"\"\"\n",
        "        return {\"role\": self.role, \"content\": self.format_prompt(**kwargs)}\n",
        "```\n",
        "\n",
        "We'll look at how the `SystemRolePrompt` is constructed to get a better idea of how that extension works:\n",
        "\n",
        "```python\n",
        "class SystemRolePrompt(RolePrompt):\n",
        "    def __init__(self, prompt: str):\n",
        "        super().__init__(prompt, \"system\")\n",
        "```\n",
        "\n",
        "That pattern is repeated for our `UserRolePrompt` and our `AssistantRolePrompt` as well."
      ]
    },
    {
      "cell_type": "markdown",
      "metadata": {
        "id": "D361R6sMR6yw"
      },
      "source": [
        "##### ChatOpenAI"
      ]
    },
    {
      "cell_type": "markdown",
      "metadata": {
        "id": "HJVQ2Pm8R6yw"
      },
      "source": [
        "Next we have our model, which is converted to a format analagous to libraries like LangChain and LlamaIndex.\n",
        "\n",
        "Let's take a peek at how that is constructed:\n",
        "\n",
        "```python\n",
        "class ChatOpenAI:\n",
        "    def __init__(self, model_name: str = \"gpt-4o-mini\"):\n",
        "        self.model_name = model_name\n",
        "        self.openai_api_key = os.getenv(\"OPENAI_API_KEY\")\n",
        "        if self.openai_api_key is None:\n",
        "            raise ValueError(\"OPENAI_API_KEY is not set\")\n",
        "\n",
        "    def run(self, messages, text_only: bool = True):\n",
        "        if not isinstance(messages, list):\n",
        "            raise ValueError(\"messages must be a list\")\n",
        "\n",
        "        openai.api_key = self.openai_api_key\n",
        "        response = openai.ChatCompletion.create(\n",
        "            model=self.model_name, messages=messages\n",
        "        )\n",
        "\n",
        "        if text_only:\n",
        "            return response.choices[0].message.content\n",
        "\n",
        "        return response\n",
        "```"
      ]
    },
    {
      "cell_type": "markdown",
      "metadata": {
        "id": "qCU7FfhIR6yw"
      },
      "source": [
        "#### ❓ Question #3:\n",
        "\n",
        "When calling the OpenAI API - are there any ways we can achieve more reproducible outputs?\n",
        "We can achieve more reproducible outputs by setting the 'seed' parameter to a fixed value. OpenAI will make a best effort to sample deterministically, such that repeated requests with the same seed and parameters should return the same result.\n",
        "\n",
        "> NOTE: Check out [this section](https://platform.openai.com/docs/guides/text-generation/) of the OpenAI documentation for the answer!"
      ]
    },
    {
      "cell_type": "markdown",
      "metadata": {
        "id": "c5wcjMLCR6yw"
      },
      "source": [
        "### Creating and Prompting OpenAI's `gpt-4o-mini`!\n",
        "\n",
        "Let's tie all these together and use it to prompt `gpt-4o-mini`!"
      ]
    },
    {
      "cell_type": "code",
      "execution_count": 12,
      "metadata": {
        "id": "WIfpIot7R6yw"
      },
      "outputs": [],
      "source": [
        "from aimakerspace.openai_utils.prompts import (\n",
        "    UserRolePrompt,\n",
        "    SystemRolePrompt,\n",
        "    AssistantRolePrompt,\n",
        ")\n",
        "\n",
        "from aimakerspace.openai_utils.chatmodel import ChatOpenAI\n",
        "\n",
        "chat_openai = ChatOpenAI()\n",
        "user_prompt_template = \"{content}\"\n",
        "user_role_prompt = UserRolePrompt(user_prompt_template)\n",
        "system_prompt_template = (\n",
        "    \"You are an expert in {expertise}, you always answer in a kind way.\"\n",
        ")\n",
        "system_role_prompt = SystemRolePrompt(system_prompt_template)\n",
        "\n",
        "messages = [\n",
        "    system_role_prompt.create_message(expertise=\"Python\"),\n",
        "    user_role_prompt.create_message(\n",
        "        content=\"What is the best way to write a loop?\"\n",
        "    ),\n",
        "]\n",
        "\n",
        "response = chat_openai.run(messages)"
      ]
    },
    {
      "cell_type": "code",
      "execution_count": 13,
      "metadata": {
        "colab": {
          "base_uri": "https://localhost:8080/"
        },
        "id": "dHo7lssNR6yw",
        "outputId": "1d3823fa-bb6b-45f6-ddba-b41686388324"
      },
      "outputs": [
        {
          "name": "stdout",
          "output_type": "stream",
          "text": [
            "Writing a loop in Python can be straightforward, and the best way often depends on what you need the loop to accomplish. Here, I’ll outline a few different approaches, focusing primarily on `for` loops and `while` loops.\n",
            "\n",
            "### For Loop\n",
            "\n",
            "A `for` loop is typically used when you want to iterate over a sequence (like a list, tuple, or string).\n",
            "\n",
            "```python\n",
            "fruits = ['apple', 'banana', 'cherry']\n",
            "\n",
            "for fruit in fruits:\n",
            "    print(fruit)\n",
            "```\n",
            "\n",
            "### While Loop\n",
            "\n",
            "A `while` loop is useful when you want to repeat an action until a certain condition is met.\n",
            "\n",
            "```python\n",
            "count = 0\n",
            "\n",
            "while count < 5:\n",
            "    print(count)\n",
            "    count += 1\n",
            "```\n",
            "\n",
            "### Tips for Writing Loops\n",
            "\n",
            "1. **Keep It Simple**: Strive to make your loops straightforward and easy to understand.\n",
            "2. **Use `enumerate()` for Indexing**: If you need both the index and the value, use `enumerate()` in your loop.\n",
            "   \n",
            "   ```python\n",
            "   for index, fruit in enumerate(fruits):\n",
            "       print(index, fruit)\n",
            "   ```\n",
            "\n",
            "3. **Avoid Infinite Loops**: Make sure your loop has a clear exit condition, especially for `while` loops. Use `break` to exit the loop if necessary.\n",
            "4. **List Comprehensions**: For simple tasks where you create lists, consider using a list comprehension, which can be more concise and often more efficient.\n",
            "   \n",
            "   ```python\n",
            "   squares = [x**2 for x in range(10)]\n",
            "   ```\n",
            "\n",
            "5. **Use `range()` for Number Sequencing**: If you need to iterate a specific number of times, use `range()`.\n",
            "\n",
            "   ```python\n",
            "   for i in range(5):\n",
            "       print(i)\n",
            "   ```\n",
            "\n",
            "### Example of Combining Loops\n",
            "\n",
            "Sometimes, you'll find yourself needing nested loops. In such cases, keep readability in mind:\n",
            "\n",
            "```python\n",
            "for i in range(3):\n",
            "    for j in range(2):\n",
            "        print(f\"i: {i}, j: {j}\")\n",
            "```\n",
            "\n",
            "### Conclusion\n",
            "\n",
            "Choose the loop type that best fits your use case, and remember to focus on clarity and efficiency. Making your loops easy to read will help both you and others who might work with your code in the future. If you have specific use cases or examples in mind, feel free to share, and I can provide more tailored advice!\n"
          ]
        }
      ],
      "source": [
        "print(response)"
      ]
    },
    {
      "cell_type": "markdown",
      "metadata": {
        "id": "r2nxxhB2R6yy"
      },
      "source": [
        "## Task 5: Retrieval Augmented Generation\n",
        "\n",
        "Now we can create a RAG prompt - which will help our system behave in a way that makes sense!\n",
        "\n",
        "There is much you could do here, many tweaks and improvements to be made!"
      ]
    },
    {
      "cell_type": "code",
      "execution_count": 14,
      "metadata": {
        "id": "D1hamzGaR6yy"
      },
      "outputs": [],
      "source": [
        "RAG_PROMPT_TEMPLATE = \"\"\" \\\n",
        "Use the provided context to answer the user's query.\n",
        "\n",
        "You may not answer the user's query unless there is specific context in the following text.\n",
        "\n",
        "If you do not know the answer, or cannot answer, please respond with \"I don't know\".\n",
        "\"\"\"\n",
        "\n",
        "rag_prompt = SystemRolePrompt(RAG_PROMPT_TEMPLATE)\n",
        "\n",
        "USER_PROMPT_TEMPLATE = \"\"\" \\\n",
        "Context:\n",
        "{context}\n",
        "\n",
        "User Query:\n",
        "{user_query}\n",
        "\"\"\"\n",
        "\n",
        "\n",
        "user_prompt = UserRolePrompt(USER_PROMPT_TEMPLATE)\n",
        "\n",
        "class RetrievalAugmentedQAPipeline:\n",
        "    def __init__(self, llm: ChatOpenAI(), vector_db_retriever: VectorDatabase) -> None:\n",
        "        self.llm = llm\n",
        "        self.vector_db_retriever = vector_db_retriever\n",
        "\n",
        "    def run_pipeline(self, user_query: str) -> str:\n",
        "        context_list = self.vector_db_retriever.search_by_text(user_query, k=4)\n",
        "\n",
        "        context_prompt = \"\"\n",
        "        for context in context_list:\n",
        "            context_prompt += context[0] + \"\\n\"\n",
        "\n",
        "        formatted_system_prompt = rag_prompt.create_message()\n",
        "\n",
        "        formatted_user_prompt = user_prompt.create_message(user_query=user_query, context=context_prompt)\n",
        "\n",
        "        return {\"response\" : self.llm.run([formatted_system_prompt, formatted_user_prompt]), \"context\" : context_list}"
      ]
    },
    {
      "cell_type": "markdown",
      "metadata": {
        "id": "zZIJI19uR6yz"
      },
      "source": [
        "#### ❓ Question #4:\n",
        "\n",
        "What prompting strategies could you use to make the LLM have a more thoughtful, detailed response?\n",
        "By using more detailed and spcific intructions and proving context and examples (few shot, COT, etc.) we can make the LLM have a more thoughtful, detailed response.\n",
        "\n",
        "What is that strategy called?\n",
        "In context learning\n",
        "\n",
        "> NOTE: You can look through the Week 1 Day 1 \"Prompting OpenAI Like A Developer\" material for an answer to this question!"
      ]
    },
    {
      "cell_type": "code",
      "execution_count": 15,
      "metadata": {
        "id": "kqbE9fZ6R6yz"
      },
      "outputs": [],
      "source": [
        "retrieval_augmented_qa_pipeline = RetrievalAugmentedQAPipeline(\n",
        "    vector_db_retriever=vector_db,\n",
        "    llm=chat_openai\n",
        ")"
      ]
    },
    {
      "cell_type": "code",
      "execution_count": 16,
      "metadata": {
        "colab": {
          "base_uri": "https://localhost:8080/"
        },
        "id": "jAGhaCGOR6yz",
        "outputId": "e4fb3a1b-d2bc-4e18-ec31-dc0adf767163"
      },
      "outputs": [
        {
          "data": {
            "text/plain": [
              "{'response': \"The 'Michael Eisner Memorial Weak Executive Problem' refers to a situation where a CEO, who has a strong background in a particular area (such as product management, sales, or marketing), struggles to let go of responsibilities or to delegate effectively to their executive team, particularly when those executives are weak. This problem is named after Michael Eisner, the former CEO of Disney, who, despite being a brilliant TV network executive, experienced challenges when he took over ABC, which performed poorly under his leadership. The term highlights that even successful leaders can have difficulty managing executives who may lack the necessary skills or judgment, leading to poor organizational performance.\",\n",
              " 'context': [('n\\n \\npurpose.\\n \\nThis\\n \\nsounds\\n \\nsilly,\\n \\nbut\\n \\nyou\\n \\nwouldn’t\\n \\nbelieve\\n \\nhow\\n \\noaen\\n \\nit\\n \\nhappens.\\n \\nThe\\n \\nCEO\\n \\nwho\\n \\nused\\n \\nto\\n \\nbe\\n \\na\\n \\nproduct\\n \\nmanager\\n \\nwho\\n \\nhas\\n \\na\\n \\nweak\\n \\nproduct\\n \\nmanagement\\n \\nexecutive.\\n \\nThe\\n \\nCEO\\n \\nwho\\n \\nused\\n \\nto\\n \\nbe\\n \\nin\\n \\nsales\\n \\nwho\\n \\nhas\\n \\na\\n \\nweak\\n \\nsales\\n \\nexecutive.\\n \\nThe\\n \\nCEO\\n \\nwho\\n \\nused\\n \\nto\\n \\nbe\\n \\nin\\n \\nmarketing\\n \\nwho\\n \\nhas\\n \\na\\n \\nweak\\n \\nmarketing\\n \\nexecutive.\\n \\nI\\n \\ncall\\n \\nthis\\n \\nthe\\n \\n“Michael\\n \\nEisner\\n \\nMemorial\\n \\nWeak\\n \\nExecutive\\n \\nProblem”\\n \\n—\\n \\naaer\\n \\nthe\\n \\nCEO\\n \\nof\\n \\nDisney\\n \\nwho\\n \\nhad\\n \\npreviously\\n \\nbeen\\n \\na\\n \\nbrilliant\\n \\nTV\\n \\nnetwork\\n \\nexecutive.\\n \\nWhen\\n \\nhe\\n \\nbought\\n \\nABC\\n \\nat\\n \\nDisney,\\n \\nit\\n \\npromptly\\n \\nfell\\n \\nto\\n \\nfourth\\n \\nplace.\\n \\nHis\\n \\nresponse?\\n \\n“If\\n \\nI\\n \\nhad\\n \\nan\\n \\nextra\\n \\ntwo\\n \\ndays\\n \\na\\n \\nweek,\\n \\nI\\n \\ncould\\n \\nturn\\n \\naround\\n \\nABC\\n \\nmyself.”\\n \\nWell,\\n \\nguess\\n \\nwhat,\\n \\nhe\\n \\ndidn’t\\n \\nhave\\n \\nan\\n \\nextra\\n \\ntwo\\n \\ndays\\n \\na\\n \\nweek.\\n \\nA\\n \\nCEO\\n \\n—\\n \\nor\\n \\na\\n \\nstartup\\n \\nfounder\\n \\n—\\n \\noaen\\n \\nhas\\n \\na\\n \\nhard\\n \\ntime\\n \\nletting\\n \\ngo\\n \\nof\\n \\nthe\\n',\n",
              "   np.float64(0.659176937834805)),\n",
              "  ('ives\\n \\nmanage\\n \\nexecutives.\\n \\nIt\\n \\nturns\\n \\nout\\n \\nthat\\n \\njust\\n \\nabout\\n \\nevery\\n \\nexecutive\\n \\nin\\n \\nthe\\n \\nworld\\n \\nhas\\n \\na\\n \\nfew\\n \\nthings\\n \\nthat\\n \\nare\\n \\nseriously\\n \\nwrong\\n \\nwith\\n \\nthem.\\n \\nThey\\n \\nhave\\n \\nareas\\n \\nwhere\\n \\nthey\\n \\nare\\n \\ntruly\\n \\ndeXcient\\n \\nin\\n \\njudgment\\n \\nor\\n \\nskill\\n \\nset.\\n \\nThat’s\\n \\njust\\n \\nlife.\\n \\nAlmost\\n \\nnobody\\n \\nis\\n \\nbrilliant\\n \\nat\\n \\neverything.\\n \\nWhen\\n \\nhiring\\n \\nand\\n \\nwhen\\n \\nHring\\n \\nexecutives,\\n \\nyou\\n \\nmust\\n \\ntherefore\\n \\nfocus\\n \\non\\n \\nstrength\\n \\nrather\\n \\nthan\\n \\nlack\\n \\nof\\n \\nweakness.\\n \\nEverybody\\n \\nhas\\n \\nsevere\\n \\nweaknesses\\n \\neven\\n \\nif\\n \\nyou\\n \\ncan’t\\n \\nsee\\n \\nthem\\n \\nyet.\\n \\nWhen\\n \\nmanaging,\\n \\nit’s\\n \\noaen\\n \\nuseful\\n \\nto\\n \\nmicromanage\\n \\nand\\n \\nto\\n \\nprovide\\n \\nremedial\\n \\ntraining\\n \\naround\\n \\nthese\\n \\nweaknesses.\\n \\nDoing\\n \\nso\\n \\nmay\\n \\nmake\\n \\nthe\\n \\ndiWerence\\n \\nbetween\\n \\nan\\n \\nexecutive\\n \\nsucceeding\\n \\nor\\n \\nfailing.\\n \\nFor\\n \\nexample,\\n \\nyou\\n \\nmight\\n \\nhave\\n \\na\\n \\nbrilliant\\n \\nengineering\\n \\nexecutive\\n who\\n \\ngenerates\\n \\nexcellent\\n \\nteam\\n \\nloyalty,\\n \\nhas\\n \\nterriXc\\n \\nproduct\\n \\njudgment\\n \\nand\\n \\nmakes\\n \\nth',\n",
              "   np.float64(0.5034001561030425)),\n",
              "  ('he\\n \\nfundamental\\n \\ninterpersonal\\n \\nskills\\n \\nrequired\\n \\nto\\n \\nbe\\n \\nan\\n \\neWective\\n \\nexecutive.\\n \\nI\\n \\nam\\n \\narguing\\n \\nthat\\n \\ndoing\\n \\n(a)\\n \\nwill\\n \\nlikely\\n \\nresult\\n \\nin\\n \\nweak\\n \\nperformance.\\n \\nThe\\n \\nreason\\n \\nis\\n \\nthat\\n \\nshe\\n \\nvery\\n \\nlikely\\n \\nhas\\n \\nno\\n \\nidea\\n \\nhow\\n \\nto\\n \\nbe\\n \\neWective\\n \\nwith\\n \\nher\\n \\npeers.\\n \\nIf\\n \\nsomebody\\n \\nis\\n \\nan\\n \\nexecutive,\\n \\nit’s\\n \\nvery\\n \\nlikely\\n \\nthat\\n \\nsomewhere\\n \\nalong\\n \\nthe\\n \\nline\\n \\nsomebody\\n \\ngave\\n \\nher\\n \\nfeedback\\n \\n—\\n \\nperhaps\\n \\nabstractly\\n \\n—\\n \\nabout\\n \\nall\\n \\nof\\n \\nher\\n \\nweaknesses.\\n \\nYet\\n \\nthe\\n \\nweakness\\n \\nremains.\\n \\nAs\\n \\na\\n \\nresult,\\n \\nexecutives\\n \\ngenerally\\n \\nrequire\\n \\nmore\\n \\nhands-on\\n \\nmanagement\\n \\nthan\\n \\nlower\\n \\nlevel\\n \\nemployees\\n \\nto\\n \\nimprove\\n \\nweak\\n \\nareas.\\n \\nSo,\\n \\nmicromanagement\\n \\nis\\n \\nlike\\n \\nXne\\n \\nwine.\\n \\nA\\n \\nlittle\\n \\nat\\n \\nthe\\n \\nright\\n \\ntimes\\n \\nwill\\n \\nreally\\n \\nenhance\\n \\nthings;\\n \\ntoo\\n \\nmuch\\n \\nall\\n \\nthe\\n \\ntime\\n \\nand\\n \\nyou’ll\\n \\nend\\n \\nup\\n \\nin\\n \\nrehab.\\n \\nPart\\n \\n8:\\n \\nHiring,\\n \\nmanaging,\\n \\npromoting,\\n \\nand\\n \\nDring\\n \\nexecutives\\n \\n67\\n \\nPart\\n \\n9:\\n \\nHow\\n \\nto\\n \\nhire\\n ',\n",
              "   np.float64(0.4886115387570441)),\n",
              "  ('extremely\\n \\nhelpful\\n \\nfor\\n \\nMarc\\n \\n[if\\n \\nhe\\n \\nwere\\n \\nactually\\n \\nthe\\n \\nCEO,\\n \\nwhich\\n \\nhe\\n \\nis\\n \\nnot]\\n \\nto\\n \\nmeet\\n \\nwith\\n \\nthe\\n \\nnew\\n \\nhead\\n \\nof\\n \\nengineering\\n \\ndaily\\n \\nwhen\\n \\nshe\\n \\ncomes\\n \\non\\n \\nboard\\n \\nand\\n \\nreview\\n \\nall\\n \\nof\\n \\nher\\n \\nthinking\\n \\nand\\n \\ndecisions.\\n \\nThis\\n \\nlevel\\n \\nof\\n \\nmicromanagement\\n \\nwill\\n \\naccelerate\\n \\nher\\n \\ntraining\\n \\nand\\n \\nimprove\\n \\nher\\n \\nlong-term\\n \\neWectiveness.\\n \\nIt\\n \\nwill\\n \\nmake\\n \\nher\\n \\nseem\\n \\nsmarter\\n \\nto\\n \\nthe\\n \\nrest\\n \\nof\\n \\nthe\\n \\norganization\\n \\nwhich\\n \\nwill\\n \\nbuild\\n \\ncredibility\\n \\nand\\n \\nconXdence\\n \\nwhile\\n \\nshe\\n \\ncomes\\n \\nup\\n \\nto\\n \\nspeed.\\n \\nMicromanaging\\n \\nnew\\n \\nexecutives\\n \\nis\\n \\ngenerally\\n \\na\\n \\ngood\\n \\nidea\\n \\nfor\\n \\na\\n \\nlimited\\n \\nperiod\\n \\nof\\n \\ntime.\\n \\nHowever,\\n \\nthat\\n \\nis\\n \\nnot\\n \\nthe\\n \\nonly\\n \\ntime\\n \\nthat\\n \\nit\\n \\nmakes\\n \\nsense\\n \\nto\\n \\nmicro66\\n \\nThe\\n \\nPmarca\\n \\nBlog\\n \\nArchives\\n \\nmanage\\n \\nexecutives.\\n \\nIt\\n \\nturns\\n \\nout\\n \\nthat\\n \\njust\\n \\nabout\\n \\nevery\\n \\nexecutive\\n \\nin\\n \\nthe\\n \\nworld\\n \\nhas\\n \\na\\n \\nfew\\n \\nthings\\n \\nthat\\n \\nare\\n \\nseriously\\n \\nwrong\\n \\nwith\\n \\nthem.\\n \\nThey\\n \\nhave\\n \\nare',\n",
              "   np.float64(0.47802006446036516))]}"
            ]
          },
          "execution_count": 16,
          "metadata": {},
          "output_type": "execute_result"
        }
      ],
      "source": [
        "retrieval_augmented_qa_pipeline.run_pipeline(\"What is the 'Michael Eisner Memorial Weak Executive Problem'?\")"
      ]
    },
    {
      "cell_type": "markdown",
      "metadata": {},
      "source": [
        "### 🏗️ Activity #1:\n",
        "\n",
        "Enhance your RAG application in some way! \n",
        "\n",
        "Suggestions are: \n",
        "\n",
        "- Allow it to work with PDF files\n",
        "- Implement a new distance metric\n",
        "- Add metadata support to the vector database\n",
        "\n",
        "While these are suggestions, you should feel free to make whatever augmentations you desire! \n",
        "\n",
        "> NOTE: These additions might require you to work within the `aimakerspace` library - that's expected!"
      ]
    },
    {
      "cell_type": "markdown",
      "metadata": {},
      "source": []
    },
    {
      "cell_type": "code",
      "execution_count": null,
      "metadata": {},
      "outputs": [],
      "source": [
        "### YOUR CODE HERE"
      ]
    }
  ],
  "metadata": {
    "colab": {
      "provenance": []
    },
    "kernelspec": {
      "display_name": "Python (.venv)",
      "language": "python",
      "name": ".venv"
    },
    "language_info": {
      "codemirror_mode": {
        "name": "ipython",
        "version": 3
      },
      "file_extension": ".py",
      "mimetype": "text/x-python",
      "name": "python",
      "nbconvert_exporter": "python",
      "pygments_lexer": "ipython3",
      "version": "3.13.1"
    },
    "orig_nbformat": 4,
    "widgets": {
      "application/vnd.jupyter.widget-state+json": {
        "1ce393d9afcf427d9d352259c5d32678": {
          "model_module": "@jupyter-widgets/controls",
          "model_module_version": "1.5.0",
          "model_name": "FloatProgressModel",
          "state": {
            "_dom_classes": [],
            "_model_module": "@jupyter-widgets/controls",
            "_model_module_version": "1.5.0",
            "_model_name": "FloatProgressModel",
            "_view_count": null,
            "_view_module": "@jupyter-widgets/controls",
            "_view_module_version": "1.5.0",
            "_view_name": "ProgressView",
            "bar_style": "",
            "description": "",
            "description_tooltip": null,
            "layout": "IPY_MODEL_4e6efd99f7d346e485b002fb0fa85cc7",
            "max": 1,
            "min": 0,
            "orientation": "horizontal",
            "style": "IPY_MODEL_3dfb67c39958461da6071e4c19c3fa41",
            "value": 1
          }
        },
        "3a4ba348cb004f8ab7b2b1395539c81b": {
          "model_module": "@jupyter-widgets/controls",
          "model_module_version": "1.5.0",
          "model_name": "LabelModel",
          "state": {
            "_dom_classes": [],
            "_model_module": "@jupyter-widgets/controls",
            "_model_module_version": "1.5.0",
            "_model_name": "LabelModel",
            "_view_count": null,
            "_view_module": "@jupyter-widgets/controls",
            "_view_module_version": "1.5.0",
            "_view_name": "LabelView",
            "description": "",
            "description_tooltip": null,
            "layout": "IPY_MODEL_d2ea5009dd16442cb5d8a0ac468e50a8",
            "placeholder": "​",
            "style": "IPY_MODEL_5f00135fe1044051a50ee5e841cbb8e3",
            "value": "0.018 MB of 0.018 MB uploaded\r"
          }
        },
        "3dfb67c39958461da6071e4c19c3fa41": {
          "model_module": "@jupyter-widgets/controls",
          "model_module_version": "1.5.0",
          "model_name": "ProgressStyleModel",
          "state": {
            "_model_module": "@jupyter-widgets/controls",
            "_model_module_version": "1.5.0",
            "_model_name": "ProgressStyleModel",
            "_view_count": null,
            "_view_module": "@jupyter-widgets/base",
            "_view_module_version": "1.2.0",
            "_view_name": "StyleView",
            "bar_color": null,
            "description_width": ""
          }
        },
        "4e6efd99f7d346e485b002fb0fa85cc7": {
          "model_module": "@jupyter-widgets/base",
          "model_module_version": "1.2.0",
          "model_name": "LayoutModel",
          "state": {
            "_model_module": "@jupyter-widgets/base",
            "_model_module_version": "1.2.0",
            "_model_name": "LayoutModel",
            "_view_count": null,
            "_view_module": "@jupyter-widgets/base",
            "_view_module_version": "1.2.0",
            "_view_name": "LayoutView",
            "align_content": null,
            "align_items": null,
            "align_self": null,
            "border": null,
            "bottom": null,
            "display": null,
            "flex": null,
            "flex_flow": null,
            "grid_area": null,
            "grid_auto_columns": null,
            "grid_auto_flow": null,
            "grid_auto_rows": null,
            "grid_column": null,
            "grid_gap": null,
            "grid_row": null,
            "grid_template_areas": null,
            "grid_template_columns": null,
            "grid_template_rows": null,
            "height": null,
            "justify_content": null,
            "justify_items": null,
            "left": null,
            "margin": null,
            "max_height": null,
            "max_width": null,
            "min_height": null,
            "min_width": null,
            "object_fit": null,
            "object_position": null,
            "order": null,
            "overflow": null,
            "overflow_x": null,
            "overflow_y": null,
            "padding": null,
            "right": null,
            "top": null,
            "visibility": null,
            "width": null
          }
        },
        "56a8e24025594e5e9ff3b8581c344691": {
          "model_module": "@jupyter-widgets/base",
          "model_module_version": "1.2.0",
          "model_name": "LayoutModel",
          "state": {
            "_model_module": "@jupyter-widgets/base",
            "_model_module_version": "1.2.0",
            "_model_name": "LayoutModel",
            "_view_count": null,
            "_view_module": "@jupyter-widgets/base",
            "_view_module_version": "1.2.0",
            "_view_name": "LayoutView",
            "align_content": null,
            "align_items": null,
            "align_self": null,
            "border": null,
            "bottom": null,
            "display": null,
            "flex": null,
            "flex_flow": null,
            "grid_area": null,
            "grid_auto_columns": null,
            "grid_auto_flow": null,
            "grid_auto_rows": null,
            "grid_column": null,
            "grid_gap": null,
            "grid_row": null,
            "grid_template_areas": null,
            "grid_template_columns": null,
            "grid_template_rows": null,
            "height": null,
            "justify_content": null,
            "justify_items": null,
            "left": null,
            "margin": null,
            "max_height": null,
            "max_width": null,
            "min_height": null,
            "min_width": null,
            "object_fit": null,
            "object_position": null,
            "order": null,
            "overflow": null,
            "overflow_x": null,
            "overflow_y": null,
            "padding": null,
            "right": null,
            "top": null,
            "visibility": null,
            "width": null
          }
        },
        "5f00135fe1044051a50ee5e841cbb8e3": {
          "model_module": "@jupyter-widgets/controls",
          "model_module_version": "1.5.0",
          "model_name": "DescriptionStyleModel",
          "state": {
            "_model_module": "@jupyter-widgets/controls",
            "_model_module_version": "1.5.0",
            "_model_name": "DescriptionStyleModel",
            "_view_count": null,
            "_view_module": "@jupyter-widgets/base",
            "_view_module_version": "1.2.0",
            "_view_name": "StyleView",
            "description_width": ""
          }
        },
        "bb904e05ece143c79ecc4f20de482f45": {
          "model_module": "@jupyter-widgets/controls",
          "model_module_version": "1.5.0",
          "model_name": "VBoxModel",
          "state": {
            "_dom_classes": [],
            "_model_module": "@jupyter-widgets/controls",
            "_model_module_version": "1.5.0",
            "_model_name": "VBoxModel",
            "_view_count": null,
            "_view_module": "@jupyter-widgets/controls",
            "_view_module_version": "1.5.0",
            "_view_name": "VBoxView",
            "box_style": "",
            "children": [
              "IPY_MODEL_3a4ba348cb004f8ab7b2b1395539c81b",
              "IPY_MODEL_1ce393d9afcf427d9d352259c5d32678"
            ],
            "layout": "IPY_MODEL_56a8e24025594e5e9ff3b8581c344691"
          }
        },
        "d2ea5009dd16442cb5d8a0ac468e50a8": {
          "model_module": "@jupyter-widgets/base",
          "model_module_version": "1.2.0",
          "model_name": "LayoutModel",
          "state": {
            "_model_module": "@jupyter-widgets/base",
            "_model_module_version": "1.2.0",
            "_model_name": "LayoutModel",
            "_view_count": null,
            "_view_module": "@jupyter-widgets/base",
            "_view_module_version": "1.2.0",
            "_view_name": "LayoutView",
            "align_content": null,
            "align_items": null,
            "align_self": null,
            "border": null,
            "bottom": null,
            "display": null,
            "flex": null,
            "flex_flow": null,
            "grid_area": null,
            "grid_auto_columns": null,
            "grid_auto_flow": null,
            "grid_auto_rows": null,
            "grid_column": null,
            "grid_gap": null,
            "grid_row": null,
            "grid_template_areas": null,
            "grid_template_columns": null,
            "grid_template_rows": null,
            "height": null,
            "justify_content": null,
            "justify_items": null,
            "left": null,
            "margin": null,
            "max_height": null,
            "max_width": null,
            "min_height": null,
            "min_width": null,
            "object_fit": null,
            "object_position": null,
            "order": null,
            "overflow": null,
            "overflow_x": null,
            "overflow_y": null,
            "padding": null,
            "right": null,
            "top": null,
            "visibility": null,
            "width": null
          }
        }
      }
    }
  },
  "nbformat": 4,
  "nbformat_minor": 0
}
